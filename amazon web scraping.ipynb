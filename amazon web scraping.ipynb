{
 "cells": [
  {
   "cell_type": "code",
   "execution_count": 1,
   "id": "27fe239e",
   "metadata": {},
   "outputs": [],
   "source": [
    "#importing libarary\n",
    "from bs4 import BeautifulSoup\n",
    "import requests\n",
    "import time\n",
    "import datetime\n",
    "\n",
    "import smtplib\n"
   ]
  },
  {
   "cell_type": "code",
   "execution_count": 42,
   "id": "159409c2",
   "metadata": {},
   "outputs": [
    {
     "name": "stdout",
     "output_type": "stream",
     "text": [
      "Dennis Lingo Men Casual Shirts\n",
      "16,324 ratings\n"
     ]
    }
   ],
   "source": [
    "#connect to url\n",
    "URL = 'https://www.amazon.in/Dennis-Lingo-Solid-Casual-CC201_Dustypink_L_Dustypink_L/dp/B08ZN4M3DD/ref=sr_1_3?pf_rd_i=1968024031&pf_rd_m=A1VBAL9TL5WCBF&pf_rd_p=10a6ded0-7624-4de3-a302-0ac620826511&pf_rd_r=Y65VJPMYFX2NXFB0S1ZD&pf_rd_s=merchandised-search-6&qid=1661097743&refinements=p_85%3A10440599031%2Cp_72%3A1318476031%2Cp_n_pct-off-with-tax%3A50-&rnid=1318475031&rps=1&s=apparel&sr=1-3&th=1&psc=1'\n",
    "headers = {\"User-Agent\": \"Mozilla/5.0 (Windows NT 10.0; Win64; x64) AppleWebKit/537.36 (KHTML, like Gecko) Chrome/104.0.5112.102 Safari/537.36\"}\n",
    "page = requests.get(URL,headers=headers)\n",
    "soup1 = BeautifulSoup(page.content,\"html.parser\")\n",
    "##print(soup1)\n",
    "soup2 =BeautifulSoup(soup1.prettify(),'html.parser')\n",
    "##print(soup2)\n",
    "title = soup2.find(id='productTitle').get_text()\n",
    "##print(title)\n",
    "##price = soup2.find(id='listPriceLegalMessage').get_text()\n",
    "##print(price)\n",
    "title = title.strip()\n",
    "print(title)\n",
    "review = soup2.find(id='acrCustomerReviewText').get_text()\n",
    "##print(review)\n",
    "review  = review.strip()\n",
    "print(review)\n",
    "\n"
   ]
  },
  {
   "cell_type": "code",
   "execution_count": 64,
   "id": "f364fe3c",
   "metadata": {},
   "outputs": [
    {
     "name": "stdout",
     "output_type": "stream",
     "text": [
      "['Dennis Lingo Men Casual Shirts', '16,324 ratings', datetime.date(2022, 8, 23)]\n"
     ]
    }
   ],
   "source": [
    "import csv\n",
    "header = ['Title','Review','Date']\n",
    "data = [title,review,today]\n",
    "print (data)\n",
    "type(data)\n",
    "with open('amazondatascrap.csv','w',newline = '',encoding = 'UTF8') as f:\n",
    "    writer = csv.writer(f)\n",
    "    writer.writerow(header)\n",
    "    writer.writerow(data)\n",
    "    \n"
   ]
  },
  {
   "cell_type": "code",
   "execution_count": 58,
   "id": "c374f9be",
   "metadata": {
    "scrolled": true
   },
   "outputs": [
    {
     "name": "stdout",
     "output_type": "stream",
     "text": [
      "2022-08-23\n"
     ]
    }
   ],
   "source": [
    "import datetime\n",
    "today = datetime.date.today()\n",
    "print(today)"
   ]
  },
  {
   "cell_type": "code",
   "execution_count": 75,
   "id": "edb182c7",
   "metadata": {},
   "outputs": [
    {
     "name": "stdout",
     "output_type": "stream",
     "text": [
      "                            Title          Review        Date\n",
      "0  Dennis Lingo Men Casual Shirts  16,324 ratings  2022-08-23\n",
      "1  Dennis Lingo Men Casual Shirts  16,324 ratings  2022-08-23\n",
      "2  Dennis Lingo Men Casual Shirts  16,324 ratings  2022-08-23\n"
     ]
    }
   ],
   "source": [
    "import pandas as pd\n",
    "df = pd.read_csv(r'C:\\Users\\ACER\\amazondatascrap.csv')\n",
    "print(df)"
   ]
  },
  {
   "cell_type": "code",
   "execution_count": 71,
   "id": "b36ee3e8",
   "metadata": {},
   "outputs": [
    {
     "name": "stdout",
     "output_type": "stream",
     "text": [
      "['Dennis Lingo Men Casual Shirts', '16,324 ratings', datetime.date(2022, 8, 23)]\n"
     ]
    }
   ],
   "source": [
    "#add data to csv file\n",
    "import csv\n",
    "header = ['Title','Review','Date']\n",
    "data = [title,review,today]\n",
    "print (data)\n",
    "type(data)\n",
    "with open('amazondatascrap.csv','a+',newline = '',encoding = 'UTF8') as f:\n",
    "    writer = csv.writer(f)\n",
    "    \n",
    "    writer.writerow(data)\n",
    "    "
   ]
  },
  {
   "cell_type": "code",
   "execution_count": 78,
   "id": "5877a8ae",
   "metadata": {},
   "outputs": [],
   "source": [
    "def check_review():\n",
    "    URL = 'https://www.amazon.in/Dennis-Lingo-Solid-Casual-CC201_Dustypink_L_Dustypink_L/dp/B08ZN4M3DD/ref=sr_1_3?pf_rd_i=1968024031&pf_rd_m=A1VBAL9TL5WCBF&pf_rd_p=10a6ded0-7624-4de3-a302-0ac620826511&pf_rd_r=Y65VJPMYFX2NXFB0S1ZD&pf_rd_s=merchandised-search-6&qid=1661097743&refinements=p_85%3A10440599031%2Cp_72%3A1318476031%2Cp_n_pct-off-with-tax%3A50-&rnid=1318475031&rps=1&s=apparel&sr=1-3&th=1&psc=1'\n",
    "    headers = {\"User-Agent\": \"Mozilla/5.0 (Windows NT 10.0; Win64; x64) AppleWebKit/537.36 (KHTML, like Gecko) Chrome/104.0.5112.102 Safari/537.36\"}\n",
    "    page = requests.get(URL,headers=headers)\n",
    "    soup1 = BeautifulSoup(page.content,\"html.parser\")\n",
    "    soup2 =BeautifulSoup(soup1.prettify(),'html.parser')\n",
    "    title = soup2.find(id='productTitle').get_text()\n",
    "    title = title.strip()\n",
    "    review = soup2.find(id='acrCustomerReviewText').get_text()\n",
    "    review  = review.strip()\n",
    "    import datetime\n",
    "    today = datetime.date.today()\n",
    "    import csv\n",
    "    header = ['Title','Review','Date']\n",
    "    data = [title,review,today]\n",
    "    with open('amazondatascrap.csv','a+',newline = '',encoding = 'UTF8') as f:\n",
    "        writer = csv.writer(f)\n",
    "        writer.writerow(data)\n",
    "   "
   ]
  },
  {
   "cell_type": "code",
   "execution_count": null,
   "id": "87cdbd19",
   "metadata": {},
   "outputs": [],
   "source": [
    "while(True):\n",
    "    check_review()\n",
    "    time.sleep(86400)#tracks review every day"
   ]
  },
  {
   "cell_type": "code",
   "execution_count": 83,
   "id": "a5f821ff",
   "metadata": {},
   "outputs": [
    {
     "name": "stdout",
     "output_type": "stream",
     "text": [
      "                            Title          Review        Date\n",
      "0  Dennis Lingo Men Casual Shirts  16,324 ratings  2022-08-23\n",
      "1  Dennis Lingo Men Casual Shirts  16,324 ratings  2022-08-23\n",
      "2  Dennis Lingo Men Casual Shirts  16,324 ratings  2022-08-23\n",
      "3  Dennis Lingo Men Casual Shirts  16,325 ratings  2022-08-23\n",
      "4  Dennis Lingo Men Casual Shirts  16,325 ratings  2022-08-23\n",
      "5  Dennis Lingo Men Casual Shirts  16,325 ratings  2022-08-23\n"
     ]
    }
   ],
   "source": [
    "import pandas as pd\n",
    "df = pd.read_csv(r'C:\\Users\\ACER\\amazondatascrap.csv')\n",
    "print(df)"
   ]
  },
  {
   "cell_type": "code",
   "execution_count": null,
   "id": "ce7186af",
   "metadata": {},
   "outputs": [],
   "source": []
  }
 ],
 "metadata": {
  "kernelspec": {
   "display_name": "Python 3 (ipykernel)",
   "language": "python",
   "name": "python3"
  },
  "language_info": {
   "codemirror_mode": {
    "name": "ipython",
    "version": 3
   },
   "file_extension": ".py",
   "mimetype": "text/x-python",
   "name": "python",
   "nbconvert_exporter": "python",
   "pygments_lexer": "ipython3",
   "version": "3.9.12"
  }
 },
 "nbformat": 4,
 "nbformat_minor": 5
}
